{
 "cells": [
  {
   "cell_type": "markdown",
   "metadata": {},
   "source": [
    "## 1) Problem Statement:"
   ]
  },
  {
   "cell_type": "markdown",
   "metadata": {},
   "source": [
    "* This project understands how the price or value of a automobile is affected by variables such as Mileage, Year, or Make/Model. Understanding if a specif "
   ]
  },
  {
   "cell_type": "markdown",
   "metadata": {},
   "source": [
    "## 2) Data Collection:"
   ]
  },
  {
   "cell_type": "markdown",
   "metadata": {},
   "source": [
    "* As of now, the Data is gathered from the Craigslist Website for used automobiles being sold only by private dealers from specific locations in Texas, such as Dallas, Houston, and Austin.\n",
    "* The Data consists of 15 columns and 6226 instances."
   ]
  },
  {
   "cell_type": "markdown",
   "metadata": {},
   "source": [
    "### Import Data and Required Packages:"
   ]
  },
  {
   "cell_type": "code",
   "execution_count": 1,
   "metadata": {},
   "outputs": [],
   "source": [
    "import numpy as np\n",
    "import pandas as pd\n",
    "import matplotlib.pyplot as plt\n",
    "%matplotlib inline\n",
    "import seaborn as sns"
   ]
  },
  {
   "cell_type": "markdown",
   "metadata": {},
   "source": [
    "### Import Data as Pandas DataFrame:"
   ]
  },
  {
   "cell_type": "code",
   "execution_count": 3,
   "metadata": {},
   "outputs": [
    {
     "name": "stdout",
     "output_type": "stream",
     "text": [
      "      Post ID condition: fuel:  odometer:        type: paint color:  \\\n",
      "0  7826021982       good   gas   183090.0          SUV        black   \n",
      "1  7826018945  excellent   gas    71279.0       pickup        white   \n",
      "2  7826018781  excellent   gas   154000.0          SUV        white   \n",
      "3  7826018042       good   gas   140000.0  convertible         blue   \n",
      "4  7826016532       good   gas   107000.0        sedan        white   \n",
      "\n",
      "  title status:               VIN: transmission:  Year    Price  \\\n",
      "0         clean               None     automatic  2006   1500.0   \n",
      "1          lien  1FTFW1E8XNFB23421     automatic  2022  55900.0   \n",
      "2         clean               None     automatic  2016   6999.0   \n",
      "3         clean               None        manual  2001  22900.0   \n",
      "4         clean               None     automatic  2013   8500.0   \n",
      "\n",
      "                                Model   cylinders: drive:  \n",
      "0              Toyota RAV4 Standard\\n  6 cylinders    fwd  \n",
      "1              Ford F-150 SuperCrew\\n  6 cylinders    4wd  \n",
      "2               jeep cherokee sport\\n  4 cylinders    fwd  \n",
      "3   honda s2000 convertible 6 speed\\n  4 cylinders    rwd  \n",
      "4                      chrysler 300\\n  6 cylinders    fwd  \n"
     ]
    }
   ],
   "source": [
    "import sqlite3\n",
    "\n",
    "with sqlite3.connect(r'C:\\Users\\goodn\\Documents\\code\\notebook\\data\\Sqlite.db') as conn:\n",
    "    query = \"SELECT * FROM AttributesTable\"   \n",
    "    df = pd.read_sql(query, conn)\n",
    "print(df.head())"
   ]
  }
 ],
 "metadata": {
  "kernelspec": {
   "display_name": "envir",
   "language": "python",
   "name": "python3"
  },
  "language_info": {
   "codemirror_mode": {
    "name": "ipython",
    "version": 3
   },
   "file_extension": ".py",
   "mimetype": "text/x-python",
   "name": "python",
   "nbconvert_exporter": "python",
   "pygments_lexer": "ipython3",
   "version": "3.13.2"
  }
 },
 "nbformat": 4,
 "nbformat_minor": 2
}
